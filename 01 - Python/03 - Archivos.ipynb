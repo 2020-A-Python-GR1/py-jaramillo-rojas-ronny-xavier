{
 "cells": [
  {
   "cell_type": "code",
   "execution_count": 6,
   "metadata": {},
   "outputs": [
    {
     "name": "stdout",
     "output_type": "stream",
     "text": [
      "['Lorem ipsum dolor sit amet, consectetur adipiscing elit. Maecenas sollicitudin enim mauris, nec interdum neque ultricies ac. \\n', 'Suspendisse lobortis semper accumsan. Donec viverra at nunc et convallis. In nec imperdiet nunc, id vestibulum leo. \\n', 'Cras tincidunt ac odio ut ultricies. Morbi vitae tellus sed diam fermentum ullamcorper. \\n', 'Cras sed euismod ligula, ultrices scelerisque leo. \\n', 'Proin suscipit est non tempus tempus. Mauris ac eros nec tellus pharetra sollicitudin et in orci. \\n', 'Nullam semper ut dolor vel fringilla. Etiam ut pretium nisl, vitae vulputate dolor.']\n",
      "<class 'list'>\n"
     ]
    }
   ],
   "source": [
    "try:\n",
    "    path=\"./frases.txt\"\n",
    "    archivo_abierto = open(path)\n",
    "    lista_lineas = archivo_abierto.readlines()\n",
    "    print(lista_lineas)\n",
    "    print(type(lista_lineas))\n",
    "    archivo_abierto.close()\n",
    "except Exception as Error:\n",
    "    print(\"Error leyendo archivo.\")"
   ]
  },
  {
   "cell_type": "code",
   "execution_count": 8,
   "metadata": {},
   "outputs": [],
   "source": [
    "try:\n",
    "    path=\"./frases.txt\"\n",
    "    archivo_abierto = open(path,'a') #w = write ; a = append\n",
    "    archivo_abierto.write(\"EJEMPLO2\")\n",
    "    archivo_abierto.close()\n",
    "except Exception as Error:\n",
    "    print(\"Error leyendo archivo.\")"
   ]
  },
  {
   "cell_type": "code",
   "execution_count": null,
   "metadata": {},
   "outputs": [],
   "source": []
  }
 ],
 "metadata": {
  "kernelspec": {
   "display_name": "Python 3",
   "language": "python",
   "name": "python3"
  },
  "language_info": {
   "codemirror_mode": {
    "name": "ipython",
    "version": 3
   },
   "file_extension": ".py",
   "mimetype": "text/x-python",
   "name": "python",
   "nbconvert_exporter": "python",
   "pygments_lexer": "ipython3",
   "version": "3.7.6"
  }
 },
 "nbformat": 4,
 "nbformat_minor": 4
}

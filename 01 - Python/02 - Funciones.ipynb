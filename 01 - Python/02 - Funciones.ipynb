{
 "cells": [
  {
   "cell_type": "code",
   "execution_count": 1,
   "metadata": {},
   "outputs": [
    {
     "name": "stdout",
     "output_type": "stream",
     "text": [
      "Hola Mundo\n"
     ]
    },
    {
     "data": {
      "text/plain": [
       "NoneType"
      ]
     },
     "execution_count": 1,
     "metadata": {},
     "output_type": "execute_result"
    }
   ],
   "source": [
    "# Funciones\n",
    "def hola_mundo():\n",
    "    print(\"Hola Mundo\")\n",
    "type(hola_mundo())"
   ]
  },
  {
   "cell_type": "code",
   "execution_count": 6,
   "metadata": {},
   "outputs": [
    {
     "name": "stdout",
     "output_type": "stream",
     "text": [
      "La suma de 2 y 3 es igual a 17\n"
     ]
    }
   ],
   "source": [
    "def suma_dos_numeros(num_uno, num_dos):\n",
    "    return num_uno + num_dos\n",
    "#print(suma_dos_numeros(4,5))\n",
    "total_suma = suma_dos_numeros(9,8)\n",
    "print(f\"La suma de 2 y 3 es igual a {total_suma}\")"
   ]
  },
  {
   "cell_type": "code",
   "execution_count": 7,
   "metadata": {},
   "outputs": [
    {
     "name": "stdout",
     "output_type": "stream",
     "text": [
      "Universidad: EPN\n",
      "Universidad: ESPE\n"
     ]
    }
   ],
   "source": [
    "def imprimir_universidad(nombre=\"EPN\"): #Parámetros Opcionales\n",
    "    print(f\"Universidad: {nombre}\")     #Parámetros por defecto\n",
    "imprimir_universidad()\n",
    "imprimir_universidad(\"ESPE\")"
   ]
  },
  {
   "cell_type": "code",
   "execution_count": 13,
   "metadata": {},
   "outputs": [
    {
     "name": "stdout",
     "output_type": "stream",
     "text": [
      "Color:Gris\n",
      "Placa:AAA-4200\n",
      "Horse Power:5000\n",
      "Año:2000\n"
     ]
    }
   ],
   "source": [
    "def imprimir_carro(color, placa, hp, anio=2000):\n",
    "    print(f\"Color:{color}\")\n",
    "    print(f\"Placa:{placa}\")\n",
    "    print(f\"Horse Power:{hp}\")\n",
    "    print(f\"Año:{anio}\")\n",
    "    \n",
    "imprimir_carro(\"Gris\",\"AAA-4200\",5000)\n"
   ]
  },
  {
   "cell_type": "code",
   "execution_count": 14,
   "metadata": {},
   "outputs": [
    {
     "name": "stdout",
     "output_type": "stream",
     "text": [
      "Color:Negro\n",
      "Placa:EEE-4444\n",
      "Horse Power:1234\n",
      "Año:1000\n"
     ]
    }
   ],
   "source": [
    "imprimir_carro(anio=1000, placa = \"EEE-4444\",hp=1234, color=\"Negro\") #Named Parameters"
   ]
  },
  {
   "cell_type": "code",
   "execution_count": 15,
   "metadata": {},
   "outputs": [
    {
     "name": "stdout",
     "output_type": "stream",
     "text": [
      "Color:Negro\n",
      "Placa:ABC-123\n",
      "Horse Power:225\n",
      "Año:1996\n"
     ]
    }
   ],
   "source": [
    "#REGLA: podemos usar parametros por posicion y luego todos los demas podemos usar parametros nombrados\n",
    "imprimir_carro (\"Negro\",\"ABC-123\",anio=1996,hp=225)"
   ]
  },
  {
   "cell_type": "code",
   "execution_count": 24,
   "metadata": {},
   "outputs": [
    {
     "data": {
      "text/plain": [
       "38"
      ]
     },
     "execution_count": 24,
     "metadata": {},
     "output_type": "execute_result"
    }
   ],
   "source": [
    "def sumar_numeros(primer_numero, *numeros): #Parámetros infinitos\n",
    "    suma = primer_numero\n",
    "    for numero in numeros:\n",
    "        suma = suma + numero\n",
    "    return suma\n",
    "sumar_numeros(1,2,3,4,4,2,2,5,1,5,1,2,3,3)"
   ]
  },
  {
   "cell_type": "code",
   "execution_count": 27,
   "metadata": {},
   "outputs": [
    {
     "name": "stdout",
     "output_type": "stream",
     "text": [
      "{'saludo': 'HOLA', 'mensaje': 'WORLD'}\n",
      "<class 'dict'>\n"
     ]
    }
   ],
   "source": [
    "def establecer_configuracion(**kwargs):\n",
    "    print(kwargs)\n",
    "    print(type(kwargs))\n",
    "establecer_configuracion(saludo = \"HOLA\", mensaje = \"WORLD\")"
   ]
  },
  {
   "cell_type": "code",
   "execution_count": null,
   "metadata": {},
   "outputs": [],
   "source": [
    "#Reglas\n",
    "def ejemplo(requerido_uno,\n",
    "           requerido_dos,\n",
    "           opcional_uno=1,\n",
    "           opcional_dos=2,\n",
    "           *infinitos,\n",
    "           **kwargs):\n",
    "    print(\":(){:|:&};:\")"
   ]
  }
 ],
 "metadata": {
  "kernelspec": {
   "display_name": "Python 3",
   "language": "python",
   "name": "python3"
  },
  "language_info": {
   "codemirror_mode": {
    "name": "ipython",
    "version": 3
   },
   "file_extension": ".py",
   "mimetype": "text/x-python",
   "name": "python",
   "nbconvert_exporter": "python",
   "pygments_lexer": "ipython3",
   "version": "3.7.6"
  }
 },
 "nbformat": 4,
 "nbformat_minor": 4
}

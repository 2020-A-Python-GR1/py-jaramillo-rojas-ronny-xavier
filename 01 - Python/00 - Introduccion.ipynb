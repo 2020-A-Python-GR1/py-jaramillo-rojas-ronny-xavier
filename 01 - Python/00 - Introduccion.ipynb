{
 "cells": [
  {
   "cell_type": "markdown",
   "metadata": {},
   "source": [
    "# Título 1\n",
    "## Título 2\n",
    "```javascript\n",
    "var s = \"JavaScript syntax highlighting\";\n",
    "alert(s);\n",
    "```\n",
    " \n",
    "```python\n",
    "s = \"Python syntax highlighting\"\n",
    "print s\n",
    "```\n",
    " \n",
    "```\n",
    "No language indicated, so no syntax highlighting. \n",
    "But let's throw in a <b>tag</b>.\n",
    "```"
   ]
  },
  {
   "cell_type": "code",
   "execution_count": 6,
   "metadata": {},
   "outputs": [
    {
     "name": "stdout",
     "output_type": "stream",
     "text": [
      "Hola Mundo\n"
     ]
    }
   ],
   "source": [
    "print(\"Hola Mundo\")"
   ]
  },
  {
   "cell_type": "code",
   "execution_count": 5,
   "metadata": {},
   "outputs": [
    {
     "name": "stdout",
     "output_type": "stream",
     "text": [
      "Hola Mundo\n"
     ]
    }
   ],
   "source": [
    "print(\"Hola Mundo\")"
   ]
  },
  {
   "cell_type": "code",
   "execution_count": 4,
   "metadata": {},
   "outputs": [
    {
     "name": "stdout",
     "output_type": "stream",
     "text": [
      "Hola Mundo\n"
     ]
    }
   ],
   "source": [
    "print(\"Hola Mundo\")"
   ]
  },
  {
   "cell_type": "code",
   "execution_count": 2,
   "metadata": {},
   "outputs": [
    {
     "name": "stdout",
     "output_type": "stream",
     "text": [
      "<class 'int'>\n",
      "<class 'float'>\n",
      "<class 'str'>\n",
      "<class 'str'>\n",
      "<class 'bool'>\n",
      "<class 'bool'>\n",
      "<class 'NoneType'>\n"
     ]
    }
   ],
   "source": [
    "## Python es un lenguaje no tipado.\n",
    "# Variables Primitivas\n",
    "entero = 4\n",
    "decimales = 1.1\n",
    "nombre = \"Ronny\"\n",
    "segundo_nombre = \"Xavier\" # segundoNombre X -> NO\n",
    "casado = False\n",
    "estudiante = True\n",
    "hijos = None\n",
    "print(type(entero))\n",
    "print(type(decimales))\n",
    "print(type(nombre))\n",
    "print(type(segundo_nombre))\n",
    "print(type(casado))\n",
    "print(type(estudiante))\n",
    "print(type(hijos))"
   ]
  },
  {
   "cell_type": "code",
   "execution_count": 15,
   "metadata": {},
   "outputs": [
    {
     "name": "stdout",
     "output_type": "stream",
     "text": [
      "## Python es un lenguaje no tipado.\n",
      "## Python es un lenguaje no tipado.\n",
      "## Python es un lenguaje no tipado.\n",
      "## Python es un lenguaje no tipado.\n",
      "## Python es un lenguaje no tipado.\n",
      "## Python es un lenguaje no tipado.\n",
      "## Python es un lenguaje no tipado.\n",
      "## Python es un lenguaje no tipado.\n",
      "## Python es un lenguaje no tipado.\n",
      "## Python es un lenguaje no tipado.\n",
      "## Python es un lenguaje no tipado.\n",
      "## Python es un lenguaje no tipado.\n"
     ]
    }
   ],
   "source": [
    "cadena_de_texto = \"\"\"## Python es un lenguaje no tipado.\n",
    "## Python es un lenguaje no tipado.\n",
    "## Python es un lenguaje no tipado.\n",
    "## Python es un lenguaje no tipado.\n",
    "## Python es un lenguaje no tipado.\n",
    "## Python es un lenguaje no tipado.\n",
    "## Python es un lenguaje no tipado.\n",
    "## Python es un lenguaje no tipado.\n",
    "## Python es un lenguaje no tipado.\n",
    "## Python es un lenguaje no tipado.\n",
    "## Python es un lenguaje no tipado.\n",
    "## Python es un lenguaje no tipado.\"\"\"\n",
    "print(cadena_de_texto)"
   ]
  },
  {
   "cell_type": "code",
   "execution_count": 5,
   "metadata": {},
   "outputs": [
    {
     "name": "stdout",
     "output_type": "stream",
     "text": [
      "4\n",
      "Ronny\n"
     ]
    }
   ],
   "source": [
    "print(entero)\n",
    "entero = decimales\n",
    "entero = hijos\n",
    "entero = casado\n",
    "entero = nombre\n",
    "print(entero)"
   ]
  },
  {
   "cell_type": "code",
   "execution_count": 7,
   "metadata": {},
   "outputs": [
    {
     "name": "stdout",
     "output_type": "stream",
     "text": [
      "Truty\n",
      "Falsy\n"
     ]
    }
   ],
   "source": [
    "#Condiciones\n",
    "# Truty - Falsy\n",
    "tuplas = (1,2,3) #Arreglos que no se pueden modificar\n",
    "lista = [4,5,6] #Arreglos que sí se pueden modificar\n",
    "diccionario = { \n",
    "    \"nombre\" : \"Ronny\"\n",
    "}\n",
    "if('Ronny'):\n",
    "    #Línea uno\n",
    "    #Línea dos\n",
    "    print('Truty')\n",
    "else:\n",
    "    #Línea tres\n",
    "    #Línea cuatro\n",
    "    print('Falsy')\n",
    "if(''):\n",
    "    #Línea uno\n",
    "    #Línea dos\n",
    "    print('Truty')\n",
    "else:\n",
    "    #Línea tres\n",
    "    #Línea cuatro\n",
    "    print('Falsy')\n"
   ]
  }
 ],
 "metadata": {
  "kernelspec": {
   "display_name": "Python 3",
   "language": "python",
   "name": "python3"
  },
  "language_info": {
   "codemirror_mode": {
    "name": "ipython",
    "version": 3
   },
   "file_extension": ".py",
   "mimetype": "text/x-python",
   "name": "python",
   "nbconvert_exporter": "python",
   "pygments_lexer": "ipython3",
   "version": "3.7.6"
  }
 },
 "nbformat": 4,
 "nbformat_minor": 4
}

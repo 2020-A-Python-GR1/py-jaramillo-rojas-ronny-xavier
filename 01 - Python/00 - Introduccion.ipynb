{
 "cells": [
  {
   "cell_type": "markdown",
   "metadata": {},
   "source": [
    "# Título 1\n",
    "## Título 2\n",
    "```javascript\n",
    "var s = \"JavaScript syntax highlighting\";\n",
    "alert(s);\n",
    "```\n",
    " \n",
    "```python\n",
    "s = \"Python syntax highlighting\"\n",
    "print s\n",
    "```\n",
    " \n",
    "```\n",
    "No language indicated, so no syntax highlighting. \n",
    "But let's throw in a <b>tag</b>.\n",
    "```"
   ]
  },
  {
   "cell_type": "code",
   "execution_count": 6,
   "metadata": {},
   "outputs": [
    {
     "name": "stdout",
     "output_type": "stream",
     "text": [
      "Hola Mundo\n"
     ]
    }
   ],
   "source": [
    "print(\"Hola Mundo\")"
   ]
  },
  {
   "cell_type": "code",
   "execution_count": 5,
   "metadata": {},
   "outputs": [
    {
     "name": "stdout",
     "output_type": "stream",
     "text": [
      "Hola Mundo\n"
     ]
    }
   ],
   "source": [
    "print(\"Hola Mundo\")"
   ]
  },
  {
   "cell_type": "code",
   "execution_count": 4,
   "metadata": {},
   "outputs": [
    {
     "name": "stdout",
     "output_type": "stream",
     "text": [
      "Hola Mundo\n"
     ]
    }
   ],
   "source": [
    "print(\"Hola Mundo\")"
   ]
  },
  {
   "cell_type": "code",
   "execution_count": 2,
   "metadata": {},
   "outputs": [
    {
     "name": "stdout",
     "output_type": "stream",
     "text": [
      "<class 'int'>\n",
      "<class 'float'>\n",
      "<class 'str'>\n",
      "<class 'str'>\n",
      "<class 'bool'>\n",
      "<class 'bool'>\n",
      "<class 'NoneType'>\n"
     ]
    }
   ],
   "source": [
    "## Python es un lenguaje no tipado.\n",
    "# Variables Primitivas\n",
    "entero = 4\n",
    "decimales = 1.1\n",
    "nombre = \"Ronny\"\n",
    "segundo_nombre = \"Xavier\" # segundoNombre X -> NO\n",
    "casado = False\n",
    "estudiante = True\n",
    "hijos = None\n",
    "print(type(entero))\n",
    "print(type(decimales))\n",
    "print(type(nombre))\n",
    "print(type(segundo_nombre))\n",
    "print(type(casado))\n",
    "print(type(estudiante))\n",
    "print(type(hijos))"
   ]
  },
  {
   "cell_type": "code",
   "execution_count": 15,
   "metadata": {},
   "outputs": [
    {
     "name": "stdout",
     "output_type": "stream",
     "text": [
      "## Python es un lenguaje no tipado.\n",
      "## Python es un lenguaje no tipado.\n",
      "## Python es un lenguaje no tipado.\n",
      "## Python es un lenguaje no tipado.\n",
      "## Python es un lenguaje no tipado.\n",
      "## Python es un lenguaje no tipado.\n",
      "## Python es un lenguaje no tipado.\n",
      "## Python es un lenguaje no tipado.\n",
      "## Python es un lenguaje no tipado.\n",
      "## Python es un lenguaje no tipado.\n",
      "## Python es un lenguaje no tipado.\n",
      "## Python es un lenguaje no tipado.\n"
     ]
    }
   ],
   "source": [
    "cadena_de_texto = \"\"\"## Python es un lenguaje no tipado.\n",
    "## Python es un lenguaje no tipado.\n",
    "## Python es un lenguaje no tipado.\n",
    "## Python es un lenguaje no tipado.\n",
    "## Python es un lenguaje no tipado.\n",
    "## Python es un lenguaje no tipado.\n",
    "## Python es un lenguaje no tipado.\n",
    "## Python es un lenguaje no tipado.\n",
    "## Python es un lenguaje no tipado.\n",
    "## Python es un lenguaje no tipado.\n",
    "## Python es un lenguaje no tipado.\n",
    "## Python es un lenguaje no tipado.\"\"\"\n",
    "print(cadena_de_texto)"
   ]
  },
  {
   "cell_type": "code",
   "execution_count": 5,
   "metadata": {},
   "outputs": [
    {
     "name": "stdout",
     "output_type": "stream",
     "text": [
      "4\n",
      "Ronny\n"
     ]
    }
   ],
   "source": [
    "print(entero)\n",
    "entero = decimales\n",
    "entero = hijos\n",
    "entero = casado\n",
    "entero = nombre\n",
    "print(entero)"
   ]
  },
  {
   "cell_type": "code",
   "execution_count": 8,
   "metadata": {},
   "outputs": [
    {
     "name": "stdout",
     "output_type": "stream",
     "text": [
      "Falsy\n",
      "Truty\n",
      "Falsy\n",
      "Truty\n",
      "Falsy\n",
      "Truty\n"
     ]
    }
   ],
   "source": [
    "#Condiciones\n",
    "# Truty - Falsy\n",
    "tuplas = (1,2,3) #Arreglos que no se pueden modificar\n",
    "lista = [4,5,6] #Arreglos que sí se pueden modificar\n",
    "diccionario = { \n",
    "    \"nombre\" : \"Ronny\"\n",
    "}\n",
    " #if('Ronny'):\n",
    "    #Línea uno\n",
    "    #Línea dos\n",
    "  #   print('Truty')\n",
    " #else:\n",
    "    #Línea tres\n",
    "    #Línea cuatro\n",
    " #    print('Falsy')\n",
    " #if(''):\n",
    "    #Línea uno\n",
    "    #Línea dos\n",
    " #    print('Truty')\n",
    " #else:\n",
    "    #Línea tres\n",
    "    #Línea cuatro\n",
    " #    print('Falsy')\n",
    "nulo = None\n",
    " #if(nulo):\n",
    "   #  print('Truty')\n",
    " #else:\n",
    "   #  print('Falsy')\n",
    " #if(-1): #Truty\n",
    "   # print('Truty')\n",
    " #else:\n",
    "   # print('Falsy')\n",
    " #if(0): #Falsy\n",
    "   # print('Truty')\n",
    " #else:\n",
    "   # print('Falsy')\n",
    " #if(1): #Truty\n",
    "   # print('Truty')\n",
    " #else:\n",
    "   # print('Falsy')\n",
    "\n",
    "if(()):\n",
    "    print('Truty')\n",
    "else:\n",
    "    print('Falsy')\n",
    "if((1,2,3)):\n",
    "    print('Truty')\n",
    "else:\n",
    "    print('Falsy')\n",
    "if([]):\n",
    "    print('Truty')\n",
    "else:\n",
    "    print('Falsy')\n",
    "if([1,2,3]):\n",
    "    print('Truty')\n",
    "else:\n",
    "    print('Falsy')\n",
    "if({}):\n",
    "    print('Truty')\n",
    "else:\n",
    "    print('Falsy')\n",
    "if({\"nombre\":\"Ronny\"}):\n",
    "    print('Truty')\n",
    "else:\n",
    "    print('Falsy')"
   ]
  },
  {
   "cell_type": "code",
   "execution_count": 10,
   "metadata": {},
   "outputs": [],
   "source": [
    "arreglo = [1,2,3,4,5,6,7,8,9,10]"
   ]
  },
  {
   "cell_type": "code",
   "execution_count": 26,
   "metadata": {},
   "outputs": [
    {
     "data": {
      "text/plain": [
       "(6, 7, 8, 9)"
      ]
     },
     "execution_count": 26,
     "metadata": {},
     "output_type": "execute_result"
    }
   ],
   "source": [
    "arreglo[0:3] #Coge índices del intervalo [0,3[\n",
    "arreglo[5:] #Hasta el final\n",
    "arreglo[:7] #Desde el principio\n",
    "arreglo[-1] #Indice negativo, empieza desde el final\n",
    "arreglo[3:-2]\n",
    "arreglo[-8:8]\n",
    "arreglo[-4:-1]\n",
    "arreglo[-7:]\n",
    "arreglo[:-3]\n",
    "arreglo[:]\n",
    "\n",
    "arregloTupla = (1,2,3,4,5,6,7,8,9,10)\n",
    "arregloTupla[5:9]"
   ]
  },
  {
   "cell_type": "code",
   "execution_count": 32,
   "metadata": {},
   "outputs": [
    {
     "data": {
      "text/plain": [
       "'Ronny'"
      ]
     },
     "execution_count": 32,
     "metadata": {},
     "output_type": "execute_result"
    }
   ],
   "source": [
    "diccionario = { \n",
    "    \"nombre\" : \"Ronny\",\n",
    "    \"apellido\" : \"Eguez\",\n",
    "    \"sueldo\" : 1.2\n",
    "}\n",
    "diccionario['nombre']"
   ]
  },
  {
   "cell_type": "code",
   "execution_count": 33,
   "metadata": {},
   "outputs": [
    {
     "data": {
      "text/plain": [
       "False"
      ]
     },
     "execution_count": 33,
     "metadata": {},
     "output_type": "execute_result"
    }
   ],
   "source": [
    "12 in arreglo"
   ]
  },
  {
   "cell_type": "code",
   "execution_count": 34,
   "metadata": {},
   "outputs": [
    {
     "name": "stdout",
     "output_type": "stream",
     "text": [
      "<class 'bool'>\n"
     ]
    }
   ],
   "source": [
    "print(type(12 in arreglo))"
   ]
  },
  {
   "cell_type": "code",
   "execution_count": 35,
   "metadata": {},
   "outputs": [
    {
     "data": {
      "text/plain": [
       "3"
      ]
     },
     "execution_count": 35,
     "metadata": {},
     "output_type": "execute_result"
    }
   ],
   "source": [
    "len(arreglo)\n",
    "len(arregloTupla)\n",
    "len(diccionario)"
   ]
  },
  {
   "cell_type": "code",
   "execution_count": 36,
   "metadata": {},
   "outputs": [
    {
     "data": {
      "text/plain": [
       "True"
      ]
     },
     "execution_count": 36,
     "metadata": {},
     "output_type": "execute_result"
    }
   ],
   "source": [
    "'nombre' in diccionario # Para diccionarios, se debe trabajar con\n",
    "                        # las llaves"
   ]
  },
  {
   "cell_type": "code",
   "execution_count": 38,
   "metadata": {},
   "outputs": [
    {
     "data": {
      "text/plain": [
       "[2, 2, 3, 4, 5, 6, 7, 8, 9, 10]"
      ]
     },
     "execution_count": 38,
     "metadata": {},
     "output_type": "execute_result"
    }
   ],
   "source": [
    "#arreglo.pop\n",
    "#arreglo.insert\n",
    "#arreglo.append\n",
    "arreglo[0] = 2\n",
    "arreglo"
   ]
  },
  {
   "cell_type": "code",
   "execution_count": 39,
   "metadata": {},
   "outputs": [
    {
     "name": "stdout",
     "output_type": "stream",
     "text": [
      "1\n",
      "2\n",
      "3\n",
      "4\n",
      "5\n",
      "6\n",
      "7\n",
      "8\n",
      "9\n",
      "10\n"
     ]
    }
   ],
   "source": [
    "for numeroLista in arregloTupla:\n",
    "    print(numeroLista)"
   ]
  },
  {
   "cell_type": "code",
   "execution_count": 41,
   "metadata": {},
   "outputs": [
    {
     "name": "stdout",
     "output_type": "stream",
     "text": [
      "0\n",
      "1\n",
      "2\n",
      "3\n",
      "4\n",
      "5\n",
      "6\n",
      "7\n",
      "8\n",
      "9\n"
     ]
    }
   ],
   "source": [
    "contador = 0\n",
    "while contador < 10:\n",
    "    print(contador)\n",
    "    contador+=1"
   ]
  },
  {
   "cell_type": "code",
   "execution_count": 47,
   "metadata": {},
   "outputs": [
    {
     "data": {
      "text/plain": [
       "{True: 12.2,\n",
       " False: 'Jaramillo',\n",
       " 'edad': 21,\n",
       " 'mascotas': [{'nombre1': 'Canuto', 'nombre2': 'Luna'}],\n",
       " None: None}"
      ]
     },
     "execution_count": 47,
     "metadata": {},
     "output_type": "execute_result"
    }
   ],
   "source": [
    "ronny = {\n",
    "    True: \"Ronny\",\n",
    "    False: \"Jaramillo\",\n",
    "    1: False,\n",
    "    1: 12.2,\n",
    "    'edad': 21,\n",
    "    \"mascotas\": [{\n",
    "        \"nombre1\":\"Canuto\",\n",
    "        \"nombre2\":\"Luna\"\n",
    "    }],\n",
    "    None: None\n",
    "}\n",
    "ronny"
   ]
  },
  {
   "cell_type": "code",
   "execution_count": 48,
   "metadata": {},
   "outputs": [],
   "source": [
    "ronny['edad'] = 20\n",
    "ronny['apellido'] = 'Rojas'\n",
    "ronny['mascotas'][0]['nombre1'] = 'Mascota'"
   ]
  },
  {
   "cell_type": "code",
   "execution_count": 49,
   "metadata": {},
   "outputs": [
    {
     "data": {
      "text/plain": [
       "dict_keys([True, False, 'edad', 'mascotas', None, 'apellido'])"
      ]
     },
     "execution_count": 49,
     "metadata": {},
     "output_type": "execute_result"
    }
   ],
   "source": [
    "ronny.keys()"
   ]
  },
  {
   "cell_type": "code",
   "execution_count": 50,
   "metadata": {},
   "outputs": [
    {
     "data": {
      "text/plain": [
       "dict_values([12.2, 'Jaramillo', 20, [{'nombre1': 'Mascota', 'nombre2': 'Luna'}], None, 'Rojas'])"
      ]
     },
     "execution_count": 50,
     "metadata": {},
     "output_type": "execute_result"
    }
   ],
   "source": [
    "ronny.values()"
   ]
  },
  {
   "cell_type": "code",
   "execution_count": 55,
   "metadata": {},
   "outputs": [
    {
     "name": "stdout",
     "output_type": "stream",
     "text": [
      "<class 'dict_values'>\n",
      "<class 'dict_keys'>\n"
     ]
    }
   ],
   "source": [
    "print(type(ronny.values()))\n",
    "print(type(ronny.keys()))"
   ]
  },
  {
   "cell_type": "code",
   "execution_count": 56,
   "metadata": {},
   "outputs": [
    {
     "name": "stdout",
     "output_type": "stream",
     "text": [
      "12.2\n",
      "Jaramillo\n",
      "20\n",
      "[{'nombre1': 'Mascota', 'nombre2': 'Luna'}]\n",
      "None\n",
      "Rojas\n"
     ]
    }
   ],
   "source": [
    "for valor in ronny.values():\n",
    "    print(valor)"
   ]
  },
  {
   "cell_type": "code",
   "execution_count": 57,
   "metadata": {},
   "outputs": [
    {
     "data": {
      "text/plain": [
       "False"
      ]
     },
     "execution_count": 57,
     "metadata": {},
     "output_type": "execute_result"
    }
   ],
   "source": [
    "1 == 1 or 2 == 2\n",
    "1 != 1 and 2 != 2"
   ]
  },
  {
   "cell_type": "code",
   "execution_count": null,
   "metadata": {},
   "outputs": [],
   "source": []
  }
 ],
 "metadata": {
  "kernelspec": {
   "display_name": "Python 3",
   "language": "python",
   "name": "python3"
  },
  "language_info": {
   "codemirror_mode": {
    "name": "ipython",
    "version": 3
   },
   "file_extension": ".py",
   "mimetype": "text/x-python",
   "name": "python",
   "nbconvert_exporter": "python",
   "pygments_lexer": "ipython3",
   "version": "3.7.6"
  }
 },
 "nbformat": 4,
 "nbformat_minor": 4
}

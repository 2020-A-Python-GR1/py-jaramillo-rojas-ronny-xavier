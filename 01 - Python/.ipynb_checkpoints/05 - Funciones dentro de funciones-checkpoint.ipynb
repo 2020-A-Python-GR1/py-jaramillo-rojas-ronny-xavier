{
 "cells": [
  {
   "cell_type": "code",
   "execution_count": null,
   "metadata": {},
   "outputs": [],
   "source": [
    "def calculadora(num_uno,num_dos):\n",
    "    def suma():\n",
    "        return num_uno+num_dos\n",
    "    def resta():\n",
    "        return num_uno-num_dos\n",
    "    def multiplicacion():\n",
    "        return num_uno*num_dos\n",
    "    def division():\n",
    "        return num_uno/num_dos\n",
    "    return suma()"
   ]
  }
 ],
 "metadata": {
  "kernelspec": {
   "display_name": "Python 3",
   "language": "python",
   "name": "python3"
  },
  "language_info": {
   "codemirror_mode": {
    "name": "ipython",
    "version": 3
   },
   "file_extension": ".py",
   "mimetype": "text/x-python",
   "name": "python",
   "nbconvert_exporter": "python",
   "pygments_lexer": "ipython3",
   "version": "3.7.6"
  }
 },
 "nbformat": 4,
 "nbformat_minor": 4
}

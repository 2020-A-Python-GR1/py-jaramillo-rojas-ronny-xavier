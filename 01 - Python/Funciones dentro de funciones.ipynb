{
 "cells": [
  {
   "cell_type": "code",
   "execution_count": 7,
   "metadata": {},
   "outputs": [
    {
     "data": {
      "text/plain": [
       "8"
      ]
     },
     "execution_count": 7,
     "metadata": {},
     "output_type": "execute_result"
    }
   ],
   "source": [
    "def calculadora(num_uno, num_dos, operacion):\n",
    "    def suma():\n",
    "        return num_uno+num_dos\n",
    "    def resta():\n",
    "        return num_uno-num_dos\n",
    "    def multiplicacion():\n",
    "        return num_uno*num_dos\n",
    "    def division():\n",
    "        return num_uno/num_dos\n",
    "    def devolver_respuesta():\n",
    "        opciones = {\n",
    "            \"suma\":suma, #Invoco la definición de la función\n",
    "            \"resta\":resta,\n",
    "            \"multiplicacion\":multiplicacion,\n",
    "            \"division\": division\n",
    "        }\n",
    "        return opciones[operacion]()\n",
    "    return devolver_respuesta()\n",
    "calculadora(2,4,\"multiplicacion\")"
   ]
  },
  {
   "cell_type": "code",
   "execution_count": null,
   "metadata": {},
   "outputs": [],
   "source": [
    "edad = input (\"¿Edad?\")\n",
    "print(edad)\n",
    "print(type(edad)) #str"
   ]
  }
 ],
 "metadata": {
  "kernelspec": {
   "display_name": "Python 3",
   "language": "python",
   "name": "python3"
  },
  "language_info": {
   "codemirror_mode": {
    "name": "ipython",
    "version": 3
   },
   "file_extension": ".py",
   "mimetype": "text/x-python",
   "name": "python",
   "nbconvert_exporter": "python",
   "pygments_lexer": "ipython3",
   "version": "3.7.6"
  }
 },
 "nbformat": 4,
 "nbformat_minor": 4
}

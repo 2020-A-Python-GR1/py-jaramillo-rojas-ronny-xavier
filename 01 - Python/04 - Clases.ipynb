{
 "cells": [
  {
   "cell_type": "code",
   "execution_count": 1,
   "metadata": {},
   "outputs": [
    {
     "data": {
      "text/plain": [
       "16"
      ]
     },
     "execution_count": 1,
     "metadata": {},
     "output_type": "execute_result"
    }
   ],
   "source": [
    "#Funciones Lambda\n",
    "def elevar_al_cuadrado(numero):\n",
    "    return numero*numero\n",
    "elevar_al_cuadrado(4)"
   ]
  },
  {
   "cell_type": "code",
   "execution_count": 2,
   "metadata": {},
   "outputs": [
    {
     "data": {
      "text/plain": [
       "16"
      ]
     },
     "execution_count": 2,
     "metadata": {},
     "output_type": "execute_result"
    }
   ],
   "source": [
    "al_cuadrado = lambda x:x*x\n",
    "al_cuadrado(4)"
   ]
  },
  {
   "cell_type": "code",
   "execution_count": 3,
   "metadata": {},
   "outputs": [
    {
     "data": {
      "text/plain": [
       "6"
      ]
     },
     "execution_count": 3,
     "metadata": {},
     "output_type": "execute_result"
    }
   ],
   "source": [
    "sumar_dos_numeros = lambda x,y:x+y\n",
    "sumar_dos_numeros(2,4)"
   ]
  },
  {
   "cell_type": "code",
   "execution_count": 4,
   "metadata": {},
   "outputs": [],
   "source": [
    "# Clases\n",
    "class Nada:\n",
    "    pass\n",
    "una_nada = Nada()"
   ]
  },
  {
   "cell_type": "code",
   "execution_count": 6,
   "metadata": {},
   "outputs": [
    {
     "name": "stdout",
     "output_type": "stream",
     "text": [
      "<__main__.Nada object at 0x7fe6f72b9410>\n",
      "<class '__main__.Nada'>\n"
     ]
    }
   ],
   "source": [
    "print(una_nada)\n",
    "print(type(una_nada))"
   ]
  },
  {
   "cell_type": "code",
   "execution_count": 13,
   "metadata": {},
   "outputs": [
    {
     "name": "stdout",
     "output_type": "stream",
     "text": [
      "Empieza el constructor\n",
      "Rosado\n",
      "140.39999999999998\n",
      "Color: Rosado\n",
      "Numero Chasis: 120\n"
     ]
    }
   ],
   "source": [
    "class Auto:\n",
    "    color = None #Público\n",
    "    __numero_chasis = 1 #Privado\n",
    "    def __init__(self, color): #Constructor, self=this\n",
    "        print(\"Empieza el constructor\")\n",
    "        self.color = color\n",
    "    def setear_chasis(self, numero_chasis): #Métodos públicos\n",
    "        self.__numero_chasis = numero_chasis\n",
    "        return self.__calculo_chasis()\n",
    "    def __calculo_chasis(self): #Métodos privados\n",
    "        return self.__numero_chasis * 1.17\n",
    "    def __str__(self):\n",
    "        parte_uno = f\"Color: {self.color}\\n\"\n",
    "        parte_dos = f\"Numero Chasis: {self.__numero_chasis}\"\n",
    "        return parte_uno+parte_dos\n",
    "nuevo_auto = Auto(\"Rosado\")\n",
    "print(nuevo_auto.color)\n",
    "print(nuevo_auto.setear_chasis(120))\n",
    "print(nuevo_auto)"
   ]
  },
  {
   "cell_type": "code",
   "execution_count": 14,
   "metadata": {},
   "outputs": [
    {
     "name": "stdout",
     "output_type": "stream",
     "text": [
      "Inicia constructor Hijo\n",
      "Empieza el constructor\n",
      "Color: Blanco\n",
      "Numero Chasis: 150\n"
     ]
    }
   ],
   "source": [
    "class BMW (Auto):\n",
    "    def __init__ (self, color, chasis):\n",
    "        print(\"Inicia constructor Hijo\")\n",
    "        super().__init__(color)\n",
    "        super().setear_chasis(chasis)\n",
    "nuevo_bmw = BMW(\"Blanco\", 150)\n",
    "print(nuevo_bmw)"
   ]
  },
  {
   "cell_type": "code",
   "execution_count": null,
   "metadata": {},
   "outputs": [],
   "source": []
  }
 ],
 "metadata": {
  "kernelspec": {
   "display_name": "Python 3",
   "language": "python",
   "name": "python3"
  },
  "language_info": {
   "codemirror_mode": {
    "name": "ipython",
    "version": 3
   },
   "file_extension": ".py",
   "mimetype": "text/x-python",
   "name": "python",
   "nbconvert_exporter": "python",
   "pygments_lexer": "ipython3",
   "version": "3.7.6"
  }
 },
 "nbformat": 4,
 "nbformat_minor": 4
}
